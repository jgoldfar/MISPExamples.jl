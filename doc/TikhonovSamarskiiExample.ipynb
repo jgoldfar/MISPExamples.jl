{
 "cells": [
  {
   "cell_type": "code",
   "execution_count": null,
   "metadata": {},
   "outputs": [],
   "source": [
    "using SpecialFunctions"
   ]
  },
  {
   "cell_type": "code",
   "execution_count": 6,
   "metadata": {},
   "outputs": [
    {
     "data": {
      "text/plain": [
       "1.1283791670955126"
      ]
     },
     "execution_count": 6,
     "metadata": {},
     "output_type": "execute_result"
    }
   ],
   "source": [
    "k1=1\n",
    "k2=k1+1\n",
    "c1=-1\n",
    "c2=1\n",
    "gammaConst=2/sqrt(pi)"
   ]
  },
  {
   "cell_type": "code",
   "execution_count": null,
   "metadata": {},
   "outputs": [],
   "source": [
    "# Check that SpecialFunctions' erf agrees with our expectations\n",
    "erf(0) ≈ 0.0\n",
    "erf(1e4) ≈ 1.0"
   ]
  },
  {
   "cell_type": "code",
   "execution_count": null,
   "metadata": {},
   "outputs": [],
   "source": [
    "function rootEqn(alpha, k1=1, k2=k1+1, c1=-1, c2=-1, gammaConst=2/sqrt(pi))\n",
    "    sk1 = sqrt(k1)\n",
    "    sk2 = sqrt(k2)\n",
    "    A1 = sk1 * c1 * exp(-(alpha*alpha)/(4*k1)) / erf(alpha / (2sk1))\n",
    "    A2 = sk2 * c2 * exp(-(alpha*alpha)/(4*k2)) / (1-erf(alpha / (2sk2)))\n",
    "    A3 = (gammaConst*sqrt(pi)/2)*alpha\n",
    "    A1 + A2 + A3\n",
    "end"
   ]
  },
  {
   "cell_type": "code",
   "execution_count": null,
   "metadata": {},
   "outputs": [],
   "source": [
    "@code_warntype rootEqn(1.0)"
   ]
  },
  {
   "cell_type": "code",
   "execution_count": null,
   "metadata": {},
   "outputs": [],
   "source": [
    "using PyPlot"
   ]
  },
  {
   "cell_type": "code",
   "execution_count": null,
   "metadata": {},
   "outputs": [],
   "source": [
    "x = linspace(0.2, 1.5, 2e2)\n",
    "withfig(figure()) do\n",
    "    plot(x, map(rootEqn, x))\n",
    "end"
   ]
  },
  {
   "cell_type": "code",
   "execution_count": null,
   "metadata": {},
   "outputs": [],
   "source": [
    "x = linspace(0.5, 2, 2e2)\n",
    "k1range = 1:4\n",
    "withfig(figure()) do\n",
    "    for k1 in k1range\n",
    "        plot(x, map(t->rootEqn(t, k1, k1 + 1, -1, 1, 2/sqrt(pi)), x))\n",
    "    end\n",
    "    legend([\"rootEqn(x, k1=$(k1), k2=$(k1 + 1), c1=-1, c2=1, gammaConst=2/√π)\" for k1 in k1range], loc=8, fontsize=\"x-small\")\n",
    "end"
   ]
  },
  {
   "cell_type": "code",
   "execution_count": null,
   "metadata": {},
   "outputs": [],
   "source": [
    "x = linspace(0.2, 1.4, 2e2)\n",
    "k2DiffRange = 1:4\n",
    "k1=1\n",
    "withfig(figure()) do\n",
    "    for k2Diff in k2DiffRange\n",
    "        plot(x, map(t->rootEqn(t, k1, k1 + k2Diff, -1, 1, 2/sqrt(pi)), x))\n",
    "    end\n",
    "    legend([\"rootEqn(x, k1=$(k1), k2=$(k1 + k2Diff), c1=-1, c2=1, gammaConst=2/√π)\" for k2Diff in k2DiffRange], loc=8, fontsize=\"x-small\")\n",
    "end"
   ]
  },
  {
   "cell_type": "code",
   "execution_count": null,
   "metadata": {},
   "outputs": [],
   "source": [
    "x = linspace(0.5, 2, 2e2)\n",
    "c1range = -4:-1\n",
    "k1=1\n",
    "k2Diff=1\n",
    "withfig(figure()) do\n",
    "    for c1 in c1range\n",
    "        plot(x, map(t->rootEqn(t, k1, k1 + k2Diff, c1, 1, 2/sqrt(pi)), x))\n",
    "    end\n",
    "    legend([\"rootEqn(x, k1=$(k1), k2=$(k1 + k2Diff), c1=$(c1), c2=1, gammaConst=2/√π)\" for c1 in c1range], loc=8, fontsize=\"x-small\")\n",
    "end"
   ]
  },
  {
   "cell_type": "code",
   "execution_count": null,
   "metadata": {},
   "outputs": [],
   "source": [
    "x = linspace(0.2, 2, 2e2)\n",
    "c2range = 1:4\n",
    "k1=1\n",
    "k2Diff=1\n",
    "c1=-1\n",
    "withfig(figure()) do\n",
    "    for c2 in c2range\n",
    "        plot(x, map(t->rootEqn(t, k1, k1 + k2Diff, c1, c2, 2/sqrt(pi)), x))\n",
    "    end\n",
    "    legend([\"rootEqn(x, k1=$(k1), k2=$(k1 + k2Diff), c1=$(c1), c2=$(c2), gammaConst=2/√π)\" for c2 in c2range], loc=8, fontsize=\"x-small\")\n",
    "end"
   ]
  },
  {
   "cell_type": "code",
   "execution_count": null,
   "metadata": {},
   "outputs": [],
   "source": [
    "x = linspace(0.2, 2, 2e2)\n",
    "gammaConstRange = 1:4\n",
    "k1=1\n",
    "k2Diff=1\n",
    "c1=-1\n",
    "c2=1\n",
    "withfig(figure()) do\n",
    "    for gammaMod in gammaConstRange\n",
    "        plot(x, map(t->rootEqn(t, k1, k1 + k2Diff, c1, c2, gammaMod*2/sqrt(pi)), x))\n",
    "    end\n",
    "    legend([\"rootEqn(x, k1=$(k1), k2=$(k1 + k2Diff), c1=$(c1), c2=$(c2), gammaConst=$(gammaMod*2)/√π)\" for gammaMod in gammaConstRange], loc=8, fontsize=\"x-small\")\n",
    "end"
   ]
  }
 ],
 "metadata": {
  "kernelspec": {
   "display_name": "Julia 0.6.2",
   "language": "julia",
   "name": "julia-0.6"
  },
  "language_info": {
   "file_extension": ".jl",
   "mimetype": "application/julia",
   "name": "julia",
   "version": "0.6.3"
  }
 },
 "nbformat": 4,
 "nbformat_minor": 2
}
