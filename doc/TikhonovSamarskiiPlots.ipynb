{
 "cells": [
  {
   "cell_type": "code",
   "execution_count": null,
   "metadata": {},
   "outputs": [],
   "source": [
    "using Pkg\n",
    "Pkg.activate(@__DIR__)\n",
    "\n",
    "# # If you've already run the comman below, all you need to do is execute\n",
    "Pkg.instantiate()\n",
    "\n",
    "# # The first time you use this notebook, you'll have to run\n",
    "# Pkg.develop(PackageSpec(url=joinpath(@__DIR__, \"..\")))"
   ]
  },
  {
   "cell_type": "markdown",
   "metadata": {},
   "source": [
    "`MISPExamples` defines a \"general\" version of the Tikhonov & Samarskii example (with all parameters free to choose) as well as a \"default\" version with pre-set parameters.\n",
    "\n",
    "In most cases, the values of the parameters before and after applying the Kirchoff (integral) transformation are available, and the names of the functions available in `MISPExamples` should match that in e.g. Abdulla & Poggi (2019)"
   ]
  },
  {
   "cell_type": "code",
   "execution_count": 2,
   "metadata": {},
   "outputs": [
    {
     "name": "stderr",
     "output_type": "stream",
     "text": [
      "┌ Info: Recompiling stale cache file /Users/jgoldfar/.julia/compiled/v0.7/MISPExamples/chfNJ.ji for MISPExamples [c1e558f6-6b4a-11e8-0037-fbb02674179a]\n",
      "└ @ Base loading.jl:1185\n"
     ]
    }
   ],
   "source": [
    "using MISPExamples\n",
    "const TSE = MISPExamples.TikhonovSamarskiiDefault\n",
    "\n",
    "@static if VERSION < v\"0.7-\"\n",
    "    using Compat: stdout, range\n",
    "end"
   ]
  },
  {
   "cell_type": "markdown",
   "metadata": {},
   "source": [
    "If you'd like to examine the problem data, it is available as `t1` in that module.\n",
    "For the most part, we don't need to work with these parameters ourselves; the main thing this is used for is to hold the solution of the rootfinding method needed to calculate `alpha`:"
   ]
  },
  {
   "cell_type": "code",
   "execution_count": 3,
   "metadata": {},
   "outputs": [
    {
     "name": "stdout",
     "output_type": "stream",
     "text": [
      "ProblemData(c1=-1.0, c2=1.0, k1=1.0, k2=1.0, gamma=1.0, alpha=0.7555195764068221)"
     ]
    }
   ],
   "source": [
    "print(TSE.t1) # Verbose output by default"
   ]
  },
  {
   "cell_type": "markdown",
   "metadata": {},
   "source": [
    "We should be able to plot the corresponding data using our preferred plotting package."
   ]
  },
  {
   "cell_type": "code",
   "execution_count": 4,
   "metadata": {},
   "outputs": [],
   "source": [
    "using PyPlot"
   ]
  },
  {
   "cell_type": "markdown",
   "metadata": {},
   "source": [
    "The length of the space domain is \"free\" since the example in Tikhonov & Samarskii is a solution in the half-space, but we fix a right-boundary location to be a multiple of the final location of the \"true\" boundary to avoid degenerate phases appearing in our solution."
   ]
  },
  {
   "cell_type": "code",
   "execution_count": 5,
   "metadata": {},
   "outputs": [
    {
     "data": {
      "text/plain": [
       "0.0:0.010101010101010102:1.0"
      ]
     },
     "execution_count": 5,
     "metadata": {},
     "output_type": "execute_result"
    }
   ],
   "source": [
    "lBdy = TSE.spaceLength\n",
    "xGrid = range(0, stop=lBdy, length=100)\n",
    "tGrid = TSE.tGrid(100)"
   ]
  },
  {
   "cell_type": "markdown",
   "metadata": {},
   "source": [
    "The transformed initial data is available as `Phi`; evidently the data is continuous, but note the lack of differentiability at the level `Phi=0`: this is the initial interface location"
   ]
  },
  {
   "cell_type": "code",
   "execution_count": 6,
   "metadata": {},
   "outputs": [
    {
     "data": {
      "image/png": "[encoded data removed]",
      "text/plain": [
       "Figure(PyObject <Figure size 640x480 with 1 Axes>)"
      ]
     },
     "execution_count": 6,
     "metadata": {},
     "output_type": "execute_result"
    }
   ],
   "source": [
    "withfig(figure()) do\n",
    "    plot(xGrid, map(TSE.Phi, xGrid))\n",
    "    title(L\"\\Phi(x)\")\n",
    "    xlabel(\"x\")\n",
    "end"
   ]
  },
  {
   "cell_type": "code",
   "execution_count": null,
   "metadata": {},
   "outputs": [],
   "source": [
    "outputDir = joinpath(pwd(), \"figures\")\n",
    "mkpath(outputDir)"
   ]
  },
  {
   "cell_type": "markdown",
   "metadata": {},
   "source": [
    "The function `v(x,t)` is the analytic (true) transformed state vector"
   ]
  },
  {
   "cell_type": "code",
   "execution_count": null,
   "metadata": {},
   "outputs": [],
   "source": [
    "withfig(figure()) do\n",
    "    surf(xGrid, tGrid, [TSE.v(x,t) for x in xGrid, t in tGrid])\n",
    "    title(L\"v(x,t)\")\n",
    "    xlabel(\"t\")\n",
    "    ylabel(\"x\")\n",
    "    # # Uncomment the line below to save this plot to `outputDir`\n",
    "    # savefig(joinpath(outputDir, \"TikhonovSamarskiiSolveV.png\"))\n",
    "end"
   ]
  },
  {
   "cell_type": "markdown",
   "metadata": {},
   "source": [
    "We could also plot the solution as a series of slices for more convenient inclusion into e.g. a report."
   ]
  },
  {
   "cell_type": "code",
   "execution_count": null,
   "metadata": {},
   "outputs": [],
   "source": [
    "withfig(figure()) do\n",
    "    plot(xGrid, map(TSE.Phi, xGrid))\n",
    "    for t in TSE.tGrid(4)\n",
    "        plot(xGrid, map(x->TSE.v(x,t), xGrid))\n",
    "    end\n",
    "    legend(append!([\"\\\\Phi\"], [\"t=$t\" for t in TSE.tGrid(4)]))\n",
    "    title(L\"v(x,t)\")\n",
    "    xlabel(\"x\")\n",
    "    # # Uncomment the line below to save this plot to `outputDir`\n",
    "    # savefig(joinpath(outputDir, \"TikhonovSamarskiiSolveVSlice.png\"))\n",
    "end"
   ]
  },
  {
   "cell_type": "markdown",
   "metadata": {},
   "source": [
    "The functions `p` and `g` represent the heat flux on the right- and left-hand sides of the fixed domain, respectively."
   ]
  },
  {
   "cell_type": "code",
   "execution_count": null,
   "metadata": {},
   "outputs": [],
   "source": [
    "withfig(figure()) do\n",
    "    plot(tGrid, map(TSE.p, tGrid))\n",
    "    title(L\"p(t)\")\n",
    "    xlabel(\"t\")\n",
    "    legend(L\"p(t) = k_2 u_x(\\ell, t)\", loc=8, fontsize=\"x-small\")\n",
    "    # # Uncomment the line below to save this plot to `outputDir`\n",
    "    # savefig(joinpath(outputDir, \"TikhonovSamarskiiSolveP.png\"))\n",
    "end"
   ]
  },
  {
   "cell_type": "code",
   "execution_count": null,
   "metadata": {},
   "outputs": [],
   "source": [
    "withfig(figure()) do\n",
    "    plot(tGrid, map(TSE.g, tGrid))\n",
    "    title(L\"g(t)\")\n",
    "    xlabel(\"t\")\n",
    "    legend(\"g(t) = k_1 u_x(0, t)\", loc=8, fontsize=\"x-small\")\n",
    "    # # Uncomment the line below to save this plot to `outputDir`\n",
    "    # savefig(joinpath(outputDir, \"TikhonovSamarskiiSolveG.png\"))\n",
    "end"
   ]
  },
  {
   "cell_type": "markdown",
   "metadata": {},
   "source": [
    "`nu(t)` is the Dirichlet data on the right-hand side of the domain"
   ]
  },
  {
   "cell_type": "code",
   "execution_count": null,
   "metadata": {},
   "outputs": [],
   "source": [
    "withfig(figure()) do\n",
    "    plot(tGrid, map(TSE.nu, tGrid))\n",
    "    legend(\"nu(t) = u(\\ell, t)\", loc=8, fontsize=\"x-small\")\n",
    "end"
   ]
  },
  {
   "cell_type": "markdown",
   "metadata": {},
   "source": [
    "`Gamma` is the transformed Dirichlet data on the right-hand side of the domain."
   ]
  },
  {
   "cell_type": "code",
   "execution_count": null,
   "metadata": {},
   "outputs": [],
   "source": [
    "withfig(figure()) do\n",
    "    plot(tGrid, map(TSE.Gamma, tGrid))\n",
    "    title(L\"\\Gamma(t)\")\n",
    "    xlabel(\"t\")\n",
    "    legend(L\"\\Gamma(t) = F(u(\\ell, t))\", loc=8, fontsize=\"x-small\")\n",
    "    # # Uncomment the line below to save this plot to `outputDir`\n",
    "    # savefig(joinpath(outputDir, \"TikhonovSamarskiiSolveGamma.png\"))\n",
    "end"
   ]
  },
  {
   "cell_type": "markdown",
   "metadata": {},
   "source": [
    "Having `b(v)` and the function `v(x,t)`, we can show the composition, which should have a jump along the boundary curve:"
   ]
  },
  {
   "cell_type": "code",
   "execution_count": null,
   "metadata": {},
   "outputs": [],
   "source": [
    "withfig(figure()) do\n",
    "    surf(xGrid, tGrid, [TSE.b(TSE.v(x,t)) for x in xGrid, t in tGrid])\n",
    "    title(L\"b(v(x,t))\")\n",
    "    xlabel(\"t\")\n",
    "    ylabel(\"x\")\n",
    "end"
   ]
  },
  {
   "cell_type": "markdown",
   "metadata": {},
   "source": [
    "Having the analytic data, could (if we were so inclined) calculate the \"optimal\" error possible from a finite difference scheme; this in particular would serve as a check against any algebra issues."
   ]
  },
  {
   "cell_type": "code",
   "execution_count": null,
   "metadata": {
    "scrolled": true
   },
   "outputs": [],
   "source": [
    "using LinearAlgebra\n",
    "NVals = 8:10:1000\n",
    "L2ErrorVals = zeros(length(NVals))\n",
    "for (Ni, N) in enumerate(NVals)\n",
    "\n",
    "    lBdy = TSE.spaceLength\n",
    "    xGrid = range(0, stop=lBdy, length=N)\n",
    "    tGrid = TSE.tGrid(N)\n",
    "\n",
    "    vapprox = [TSE.v(x,t) for x in xGrid, t in tGrid]\n",
    "    @static if VERSION >= v\"0.7-\"\n",
    "        btapprox = diff([TSE.b(vapprox[i, j]) for i in eachindex(xGrid), j in eachindex(tGrid)], dims=2) / step(tGrid)\n",
    "        vxxapprox = diff(diff(vapprox, dims=1), dims=1)/(step(xGrid)^2)\n",
    "    else\n",
    "        btapprox = diff([TSE.b(vapprox[i, j]) for i in eachindex(xGrid), j in eachindex(tGrid)], 2) / step(tGrid)\n",
    "        vxxapprox = diff(diff(vapprox, 1), 1)/(step(xGrid)^2)\n",
    "    end\n",
    "    L2ErrorVals[Ni] = vecnorm(btapprox[1:(end-2), :] - vxxapprox[:, 1:(end-1)])*step(xGrid)*step(tGrid)\n",
    "end"
   ]
  },
  {
   "cell_type": "code",
   "execution_count": null,
   "metadata": {
    "scrolled": false
   },
   "outputs": [],
   "source": [
    "withfig(figure()) do\n",
    "    plot(NVals, L2ErrorVals)\n",
    "    title(\"Optimal Error in Finite Difference Scheme\")\n",
    "    xlabel(L\"N_x \\equiv N_t\")\n",
    "    ylabel(L\"\\Vert b(v)_\\bar{t} - v_{\\bar{x}x}\\Vert_{\\ell_2, h, \\tau}\")\n",
    "    # # Uncomment the line below to save this plot to `outputDir`\n",
    "    # savefig(joinpath(outputDir, \"TikhonovSamarskiiSolveApproxError.png\"))\n",
    "end"
   ]
  },
  {
   "cell_type": "markdown",
   "metadata": {},
   "source": [
    "This example shows the spatial distribution of such a finite difference approximation; we can see that the errors all appear near the interface curve, as one might expect."
   ]
  },
  {
   "cell_type": "code",
   "execution_count": null,
   "metadata": {},
   "outputs": [],
   "source": [
    "N = 64\n",
    "\n",
    "lBdy = TSE.spaceLength\n",
    "xGrid = range(0, stop=lBdy, length=N)\n",
    "tGrid = TSE.tGrid(N)\n",
    "vapprox = [TSE.v(x,t) for x in xGrid, t in tGrid]\n",
    "@static if VERSION >= v\"0.7-\"\n",
    "    btapprox = diff([TSE.b(vapprox[i, j]) for i in eachindex(xGrid), j in eachindex(tGrid)], dims=2) / step(tGrid)\n",
    "    vxxapprox = diff(diff(vapprox, dims=1), dims=1)/(step(xGrid)^2)\n",
    "else\n",
    "    btapprox = diff([TSE.b(vapprox[i, j]) for i in eachindex(xGrid), j in eachindex(tGrid)], 2) / step(tGrid)\n",
    "    vxxapprox = diff(diff(vapprox, 1), 1)/(step(xGrid)^2)\n",
    "end\n",
    "fapprox = btapprox[1:(end-2), :] - vxxapprox[:, 1:(end-1)]\n",
    "withfig(figure()) do\n",
    "    surf(tGrid[1:(end-1)], xGrid[1:(end-2)], fapprox)\n",
    "    title(L\"b(v)_\\bar{t} - v_{\\bar{x}x} \\equiv f(x,t) \\approx 0\")\n",
    "    xlabel(\"t\")\n",
    "    ylabel(\"x\")\n",
    "end"
   ]
  },
  {
   "cell_type": "code",
   "execution_count": null,
   "metadata": {},
   "outputs": [],
   "source": []
  }
 ],
 "metadata": {
  "kernelspec": {
   "display_name": "Julia 0.7.0",
   "language": "julia",
   "name": "julia-0.7"
  },
  "language_info": {
   "file_extension": ".jl",
   "mimetype": "application/julia",
   "name": "julia",
   "version": "0.7.0"
  }
 },
 "nbformat": 4,
 "nbformat_minor": 2
}
